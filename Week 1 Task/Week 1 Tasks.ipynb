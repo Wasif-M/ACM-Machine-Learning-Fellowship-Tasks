{
 "cells": [
  {
   "cell_type": "code",
   "execution_count": 1,
   "id": "45f48024",
   "metadata": {},
   "outputs": [],
   "source": [
    "import numpy as np"
   ]
  },
  {
   "cell_type": "code",
   "execution_count": 3,
   "id": "85aa6761",
   "metadata": {},
   "outputs": [
    {
     "data": {
      "text/plain": [
       "array([12, 23, 45])"
      ]
     },
     "execution_count": 3,
     "metadata": {},
     "output_type": "execute_result"
    }
   ],
   "source": [
    "# initializing one dimensional array\n",
    "\n",
    "n1=np.array([12,23,45])\n",
    "n1"
   ]
  },
  {
   "cell_type": "code",
   "execution_count": 5,
   "id": "1364554d",
   "metadata": {},
   "outputs": [
    {
     "data": {
      "text/plain": [
       "array([[12, 23, 45],\n",
       "       [ 0,  4,  2],\n",
       "       [ 5, 13, 56]])"
      ]
     },
     "execution_count": 5,
     "metadata": {},
     "output_type": "execute_result"
    }
   ],
   "source": [
    "# initializing multidimensional array\n",
    "n1=np.array([[12,23,45],[0,4,2,],[5,13,56]])\n",
    "n1\n",
    "\n"
   ]
  },
  {
   "cell_type": "code",
   "execution_count": 12,
   "id": "b38c15e2",
   "metadata": {},
   "outputs": [
    {
     "data": {
      "text/plain": [
       "array([[0., 0.],\n",
       "       [0., 0.]])"
      ]
     },
     "execution_count": 12,
     "metadata": {},
     "output_type": "execute_result"
    }
   ],
   "source": [
    "# initializing array with zeors\n",
    "\n",
    "n1= np.zeros((2,2))\n",
    "\n",
    "n1"
   ]
  },
  {
   "cell_type": "markdown",
   "id": "06b9b4af",
   "metadata": {},
   "source": []
  },
  {
   "cell_type": "code",
   "execution_count": 13,
   "id": "5ae3379d",
   "metadata": {},
   "outputs": [
    {
     "data": {
      "text/plain": [
       "array([[56, 56, 56],\n",
       "       [56, 56, 56]])"
      ]
     },
     "execution_count": 13,
     "metadata": {},
     "output_type": "execute_result"
    }
   ],
   "source": [
    "# initializing array with different values\n",
    "\n",
    "n1=np.full((2,3),56)\n",
    "n1\n"
   ]
  },
  {
   "cell_type": "code",
   "execution_count": 14,
   "id": "5cba54a0",
   "metadata": {},
   "outputs": [
    {
     "data": {
      "text/plain": [
       "array([12, 13, 14, 15, 16, 17, 18, 19, 20, 21, 22])"
      ]
     },
     "execution_count": 14,
     "metadata": {},
     "output_type": "execute_result"
    }
   ],
   "source": [
    "# initializing array within range\n",
    "n1=np.arange(12,23)\n",
    "n1\n"
   ]
  },
  {
   "cell_type": "code",
   "execution_count": 17,
   "id": "c21b5752",
   "metadata": {},
   "outputs": [
    {
     "data": {
      "text/plain": [
       "array([4, 5, 3, 5, 4, 4, 4, 4, 5, 3, 5, 5, 5, 2, 3, 2, 4, 5, 4, 4, 2, 2,\n",
       "       5, 3, 3, 5, 4, 2, 2, 3, 3, 4, 3, 5, 4, 3, 5, 5, 4, 4, 2, 5, 5, 4,\n",
       "       2, 4, 2, 4, 5, 5, 3, 2, 4, 5, 5, 4, 4, 2, 5, 3, 5, 4, 4, 5, 3, 4,\n",
       "       2, 4, 2, 3, 3, 2, 3, 4, 4, 5, 4, 4, 5, 3, 3, 2, 4, 3, 3, 2, 5, 4,\n",
       "       3, 3, 4, 4, 2, 5, 3, 2, 3, 2, 3, 4])"
      ]
     },
     "execution_count": 17,
     "metadata": {},
     "output_type": "execute_result"
    }
   ],
   "source": [
    "# initializing array with random values\n",
    "\n",
    "n1=np.random.randint(2,6,100)\n",
    "n1"
   ]
  },
  {
   "cell_type": "markdown",
   "id": "8d166153",
   "metadata": {},
   "source": [
    "# Operations on Numpy"
   ]
  },
  {
   "cell_type": "code",
   "execution_count": 18,
   "id": "c8c7458d",
   "metadata": {},
   "outputs": [
    {
     "data": {
      "text/plain": [
       "(3, 3)"
      ]
     },
     "execution_count": 18,
     "metadata": {},
     "output_type": "execute_result"
    }
   ],
   "source": [
    "n1=np.array([[12,23,45],[0,4,2,],[5,13,56]])\n",
    "n1.shape\n",
    "\n"
   ]
  },
  {
   "cell_type": "code",
   "execution_count": 19,
   "id": "6c06e727",
   "metadata": {},
   "outputs": [
    {
     "data": {
      "text/plain": [
       "array([[ 12,  34,  56],\n",
       "       [145,   7,   8],\n",
       "       [ 11,  35,   6],\n",
       "       [ 45,  67,  89]])"
      ]
     },
     "execution_count": 19,
     "metadata": {},
     "output_type": "execute_result"
    }
   ],
   "source": [
    "n1=np.array([[12,34,56],[145,7,8]])\n",
    "n2=np.array([[11,35,6],[45,67,89]])\n",
    "np.vstack((n1,n2))"
   ]
  },
  {
   "cell_type": "code",
   "execution_count": 20,
   "id": "e289f75e",
   "metadata": {},
   "outputs": [
    {
     "data": {
      "text/plain": [
       "array([[ 12,  34,  56,  11,  35,   6],\n",
       "       [145,   7,   8,  45,  67,  89]])"
      ]
     },
     "execution_count": 20,
     "metadata": {},
     "output_type": "execute_result"
    }
   ],
   "source": [
    "n1=np.array([[12,34,56],[145,7,8]])\n",
    "n2=np.array([[11,35,6],[45,67,89]])\n",
    "np.hstack((n1,n2))"
   ]
  },
  {
   "cell_type": "code",
   "execution_count": 24,
   "id": "72e04b3f",
   "metadata": {},
   "outputs": [
    {
     "data": {
      "text/plain": [
       "array([[ 12,  34,  56,  11,  35,   6],\n",
       "       [145,   7,   8,  45,  67,  89]])"
      ]
     },
     "execution_count": 24,
     "metadata": {},
     "output_type": "execute_result"
    }
   ],
   "source": [
    "n1=np.array([[12,34,56],[145,7,8]])\n",
    "n2=np.array([[11,35,6],[45,67,89]])\n",
    "np.column_stack((n1,n2))"
   ]
  },
  {
   "cell_type": "code",
   "execution_count": 27,
   "id": "ee92d7b3",
   "metadata": {},
   "outputs": [
    {
     "data": {
      "text/plain": [
       "array([34])"
      ]
     },
     "execution_count": 27,
     "metadata": {},
     "output_type": "execute_result"
    }
   ],
   "source": [
    "n1=np.array([12,34,56])\n",
    "n2=np.array([11,34,6])\n",
    "np.intersect1d(n1,n2)"
   ]
  },
  {
   "cell_type": "code",
   "execution_count": 28,
   "id": "dfaac8f1",
   "metadata": {},
   "outputs": [
    {
     "data": {
      "text/plain": [
       "array([12, 56])"
      ]
     },
     "execution_count": 28,
     "metadata": {},
     "output_type": "execute_result"
    }
   ],
   "source": [
    "n1=np.array([12,34,56])\n",
    "n2=np.array([11,34,6])\n",
    "np.setdiff1d(n1,n2)"
   ]
  },
  {
   "cell_type": "markdown",
   "id": "7b1aaf93",
   "metadata": {},
   "source": [
    "# Numpy Mathematics"
   ]
  },
  {
   "cell_type": "code",
   "execution_count": 33,
   "id": "613dce66",
   "metadata": {},
   "outputs": [
    {
     "data": {
      "text/plain": [
       "153"
      ]
     },
     "execution_count": 33,
     "metadata": {},
     "output_type": "execute_result"
    }
   ],
   "source": [
    "n1=np.array([12,34,56])\n",
    "n2=np.array([11,34,6])\n",
    "np.sum([n1,n2])"
   ]
  },
  {
   "cell_type": "code",
   "execution_count": 34,
   "id": "62465b3d",
   "metadata": {},
   "outputs": [
    {
     "data": {
      "text/plain": [
       "array([23, 68, 62])"
      ]
     },
     "execution_count": 34,
     "metadata": {},
     "output_type": "execute_result"
    }
   ],
   "source": [
    "n1=np.array([12,34,56])\n",
    "n2=np.array([11,34,6])\n",
    "np.sum([n1,n2],axis=0)"
   ]
  },
  {
   "cell_type": "code",
   "execution_count": 35,
   "id": "395f7ea1",
   "metadata": {},
   "outputs": [
    {
     "data": {
      "text/plain": [
       "array([102,  51])"
      ]
     },
     "execution_count": 35,
     "metadata": {},
     "output_type": "execute_result"
    }
   ],
   "source": [
    "n1=np.array([12,34,56])\n",
    "n2=np.array([11,34,6])\n",
    "np.sum([n1,n2],axis=1)"
   ]
  },
  {
   "cell_type": "code",
   "execution_count": 37,
   "id": "f796be64",
   "metadata": {},
   "outputs": [
    {
     "data": {
      "text/plain": [
       "array([112, 134, 156])"
      ]
     },
     "execution_count": 37,
     "metadata": {},
     "output_type": "execute_result"
    }
   ],
   "source": [
    "n1=np.array([12,34,56])\n",
    "n1=n1+100\n",
    "n1"
   ]
  },
  {
   "cell_type": "code",
   "execution_count": 38,
   "id": "1585b6fe",
   "metadata": {},
   "outputs": [
    {
     "data": {
      "text/plain": [
       "array([-88, -66, -44])"
      ]
     },
     "execution_count": 38,
     "metadata": {},
     "output_type": "execute_result"
    }
   ],
   "source": [
    "n1=np.array([12,34,56])\n",
    "n1=n1-100\n",
    "n1"
   ]
  },
  {
   "cell_type": "code",
   "execution_count": 39,
   "id": "794a5cd7",
   "metadata": {},
   "outputs": [
    {
     "data": {
      "text/plain": [
       "array([1200, 3400, 5600])"
      ]
     },
     "execution_count": 39,
     "metadata": {},
     "output_type": "execute_result"
    }
   ],
   "source": [
    "n1=np.array([12,34,56])\n",
    "n1=n1*100\n",
    "n1"
   ]
  },
  {
   "cell_type": "code",
   "execution_count": 40,
   "id": "e368b4b9",
   "metadata": {},
   "outputs": [
    {
     "data": {
      "text/plain": [
       "array([0.12, 0.34, 0.56])"
      ]
     },
     "execution_count": 40,
     "metadata": {},
     "output_type": "execute_result"
    }
   ],
   "source": [
    "n1=np.array([12,34,56])\n",
    "n1=n1/100\n",
    "n1"
   ]
  },
  {
   "cell_type": "code",
   "execution_count": 42,
   "id": "82b93e64",
   "metadata": {},
   "outputs": [
    {
     "data": {
      "text/plain": [
       "34.0"
      ]
     },
     "execution_count": 42,
     "metadata": {},
     "output_type": "execute_result"
    }
   ],
   "source": [
    "n1=np.array([12,34,56])\n",
    "np.mean(n1)"
   ]
  },
  {
   "cell_type": "code",
   "execution_count": 45,
   "id": "7afc413e",
   "metadata": {},
   "outputs": [
    {
     "data": {
      "text/plain": [
       "17.962924780409974"
      ]
     },
     "execution_count": 45,
     "metadata": {},
     "output_type": "execute_result"
    }
   ],
   "source": [
    "n1=np.array([12,34,56])\n",
    "np.std(n1)"
   ]
  },
  {
   "cell_type": "markdown",
   "id": "bc6105b3",
   "metadata": {},
   "source": [
    "# Numpy Matrix"
   ]
  },
  {
   "cell_type": "code",
   "execution_count": 51,
   "id": "58c860b6",
   "metadata": {},
   "outputs": [
    {
     "data": {
      "text/plain": [
       "array([12, 34, 56])"
      ]
     },
     "execution_count": 51,
     "metadata": {},
     "output_type": "execute_result"
    }
   ],
   "source": [
    "n1=np.array([[12,34,56],[1,4,6],[3,8,0]])\n",
    "n1[0]"
   ]
  },
  {
   "cell_type": "code",
   "execution_count": 52,
   "id": "614c6e1c",
   "metadata": {},
   "outputs": [
    {
     "data": {
      "text/plain": [
       "array([[12, 34, 56],\n",
       "       [ 1,  4,  6],\n",
       "       [ 3,  8,  0]])"
      ]
     },
     "execution_count": 52,
     "metadata": {},
     "output_type": "execute_result"
    }
   ],
   "source": [
    "n1[:]"
   ]
  },
  {
   "cell_type": "code",
   "execution_count": 53,
   "id": "31c5a0c6",
   "metadata": {},
   "outputs": [
    {
     "data": {
      "text/plain": [
       "array([[12, 34, 56]])"
      ]
     },
     "execution_count": 53,
     "metadata": {},
     "output_type": "execute_result"
    }
   ],
   "source": [
    "n1[0:1]"
   ]
  },
  {
   "cell_type": "code",
   "execution_count": 54,
   "id": "8fce349f",
   "metadata": {},
   "outputs": [
    {
     "data": {
      "text/plain": [
       "array([56,  6,  0])"
      ]
     },
     "execution_count": 54,
     "metadata": {},
     "output_type": "execute_result"
    }
   ],
   "source": [
    "n1[0:,2]"
   ]
  },
  {
   "cell_type": "code",
   "execution_count": 55,
   "id": "cc5ff75d",
   "metadata": {},
   "outputs": [
    {
     "data": {
      "text/plain": [
       "array([[12,  1,  3],\n",
       "       [34,  4,  8],\n",
       "       [56,  6,  0]])"
      ]
     },
     "execution_count": 55,
     "metadata": {},
     "output_type": "execute_result"
    }
   ],
   "source": [
    "np.transpose(n1)"
   ]
  },
  {
   "cell_type": "code",
   "execution_count": 56,
   "id": "b57570e1",
   "metadata": {},
   "outputs": [
    {
     "data": {
      "text/plain": [
       "array([[346, 992, 876],\n",
       "       [ 34,  98,  80],\n",
       "       [ 44, 134, 216]])"
      ]
     },
     "execution_count": 56,
     "metadata": {},
     "output_type": "execute_result"
    }
   ],
   "source": [
    "n1=np.array([[12,34,56],[1,4,6],[3,8,0]])\n",
    "n2=np.array([[12,34,56],[1,4,6],[3,8,0]])\n",
    "n1.dot(n2)"
   ]
  },
  {
   "cell_type": "code",
   "execution_count": 57,
   "id": "05ae95cd",
   "metadata": {},
   "outputs": [
    {
     "data": {
      "text/plain": [
       "array([[346, 992, 876],\n",
       "       [ 34,  98,  80],\n",
       "       [ 44, 134, 216]])"
      ]
     },
     "execution_count": 57,
     "metadata": {},
     "output_type": "execute_result"
    }
   ],
   "source": [
    "n1=np.array([[12,34,56],[1,4,6],[3,8,0]])\n",
    "n2=np.array([[12,34,56],[1,4,6],[3,8,0]])\n",
    "n2.dot(n1)"
   ]
  },
  {
   "cell_type": "code",
   "execution_count": null,
   "id": "f9f4e1ee",
   "metadata": {},
   "outputs": [],
   "source": []
  }
 ],
 "metadata": {
  "kernelspec": {
   "display_name": "Python 3 (ipykernel)",
   "language": "python",
   "name": "python3"
  },
  "language_info": {
   "codemirror_mode": {
    "name": "ipython",
    "version": 3
   },
   "file_extension": ".py",
   "mimetype": "text/x-python",
   "name": "python",
   "nbconvert_exporter": "python",
   "pygments_lexer": "ipython3",
   "version": "3.9.12"
  }
 },
 "nbformat": 4,
 "nbformat_minor": 5
}
